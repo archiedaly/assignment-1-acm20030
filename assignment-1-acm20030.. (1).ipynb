{
 "cells": [
  {
   "cell_type": "code",
   "execution_count": 4,
   "id": "fa091778-a2e2-4f12-a0e8-3b467693ec4e",
   "metadata": {},
   "outputs": [],
   "source": [
    "import numpy as np\n",
    "import matplotlib.pyplot as plt"
   ]
  },
  {
   "cell_type": "markdown",
   "id": "4865723e-3e36-4404-9bfe-a5f6c4644344",
   "metadata": {},
   "source": [
    "##assignment 1"
   ]
  },
  {
   "cell_type": "markdown",
   "id": "1723fee6-a38e-40ac-b840-fcbc2126e027",
   "metadata": {},
   "source": [
    "#question 1\n",
    "\n",
    "question for the tutorial\n",
    "saving and submitting it \n",
    "2. c what are they asking\n",
    "debug question g \n",
    "\n"
   ]
  },
  {
   "cell_type": "code",
   "execution_count": 8,
   "id": "89375ec5-0fc8-4de8-90d6-ac21667717e8",
   "metadata": {},
   "outputs": [],
   "source": [
    "def vectorlength(x, y): \n",
    "    length = np.sqrt((x**2) + (y**2))\n",
    "    return length"
   ]
  },
  {
   "cell_type": "code",
   "execution_count": 12,
   "id": "1641ee2e-0a82-4bf6-b13a-e97808e19888",
   "metadata": {},
   "outputs": [
    {
     "name": "stdout",
     "output_type": "stream",
     "text": [
      "7.810249675906654\n"
     ]
    }
   ],
   "source": [
    "length_1 = vectorlength(5, 6)\n",
    "print(length_1)"
   ]
  },
  {
   "cell_type": "code",
   "execution_count": 14,
   "id": "90299bcc-ee8e-40bf-819e-7fcc0ec64f8b",
   "metadata": {},
   "outputs": [
    {
     "name": "stdout",
     "output_type": "stream",
     "text": [
      "5.0990195135927845\n"
     ]
    }
   ],
   "source": [
    "length_2 = vectorlength(-1, 5)\n",
    "print(length_2)"
   ]
  },
  {
   "cell_type": "code",
   "execution_count": 42,
   "id": "1dbc7682-c95e-4bcc-869f-1c692cc6b47c",
   "metadata": {},
   "outputs": [
    {
     "name": "stdout",
     "output_type": "stream",
     "text": [
      "sin(1)= 0.841\n"
     ]
    }
   ],
   "source": [
    "print(\"sin(1)= %.3f\" % np.sin(1))"
   ]
  },
  {
   "cell_type": "markdown",
   "id": "f885fda0-f80d-4046-92d4-4521cb5b147d",
   "metadata": {},
   "source": [
    "#to test for primes"
   ]
  },
  {
   "cell_type": "code",
   "execution_count": 96,
   "id": "4d3094ca-3298-4ad6-8505-22fb5ed0caaa",
   "metadata": {},
   "outputs": [
    {
     "name": "stdout",
     "output_type": "stream",
     "text": [
      "The total numbers of primes less than 1000 is 168\n"
     ]
    }
   ],
   "source": [
    "def IsPrime(n):\n",
    "    if n==1:\n",
    "        return 0\n",
    "    i = 2\n",
    "    while i <= np.sqrt(n):\n",
    "        #print(f\"checking if {n} is divisible by {i}\") \n",
    "        if n % i == 0:\n",
    "            return 0\n",
    "        i += 1\n",
    "    return 1\n",
    "\n",
    "prime_count = 0\n",
    "\n",
    "for num in range (2, 1000):\n",
    "    if IsPrime(num):\n",
    "        prime_count += 1\n",
    "\n",
    "print(f\"The total numbers of primes less than 1000 is {prime_count}\")\n"
   ]
  },
  {
   "cell_type": "code",
   "execution_count": 84,
   "id": "ca22c88b-8dcc-40ae-97d7-2020f3306c44",
   "metadata": {},
   "outputs": [
    {
     "name": "stdout",
     "output_type": "stream",
     "text": [
      "pi_function(1000) is 168\n",
      "pi_function(10000) is 1229\n"
     ]
    }
   ],
   "source": [
    "def IsPrime(n):\n",
    "    if n==1:\n",
    "        return 0\n",
    "    i = 2\n",
    "    while i <= np.sqrt(n):\n",
    "        if n % i == 0:\n",
    "            return 0\n",
    "        i += 1\n",
    "    return 1\n",
    "\n",
    "prime_count = 0\n",
    "\n",
    "def PrimeCount(x):\n",
    "    prime_count_pi = 0\n",
    "    for num in range(2, x + 1):\n",
    "        if IsPrime(num):\n",
    "                prime_count_pi += 1\n",
    "    return prime_count_pi\n",
    "\n",
    "print(f\"pi_function(1000) is {PrimeCount(1000)}\")\n",
    "print(f\"pi_function(10000) is {PrimeCount(10000)}\")\n"
   ]
  },
  {
   "cell_type": "code",
   "execution_count": 94,
   "id": "60a083fe-2132-4a38-ad39-53363116aa32",
   "metadata": {},
   "outputs": [
    {
     "data": {
      "text/plain": [
       "[<matplotlib.lines.Line2D at 0x1f1d21a7dd0>]"
      ]
     },
     "execution_count": 94,
     "metadata": {},
     "output_type": "execute_result"
    },
    {
     "data": {
      "image/png": "[encoded data removed]",
      "text/plain": [
       "<Figure size 640x480 with 1 Axes>"
      ]
     },
     "metadata": {},
     "output_type": "display_data"
    }
   ],
   "source": [
    "#quesion g \n",
    "def IsPrime(n):\n",
    "    if n==1:\n",
    "        return 0\n",
    "    i = 2\n",
    "    while i <= np.sqrt(n):\n",
    "        if n % i == 0:\n",
    "            return 0\n",
    "        i += 1\n",
    "    return 1\n",
    "\n",
    "prime_count = 0\n",
    "\n",
    "def PrimeCount(x):\n",
    "    prime_count_pi = 0\n",
    "    for num in range(2, x + 1):\n",
    "        if IsPrime(num):\n",
    "                prime_count_pi += 1\n",
    "    return prime_count_pi\n",
    "\n",
    "np.arange(1, 40, 1)\n",
    "Pi = np.zeros(40)\n",
    "i = 0\n",
    "while i < np.size(Pi):\n",
    "    Pi[i] = PrimeCount(i)\n",
    "    i += 1\n",
    "\n",
    "plt.plot(x, Pi, 'ro')\n"
   ]
  },
  {
   "cell_type": "markdown",
   "id": "96f38ae3-8b50-43b5-9837-3cd0c557dbd1",
   "metadata": {},
   "source": [
    "quesiton 3"
   ]
  },
  {
   "cell_type": "code",
   "execution_count": 6,
   "id": "d9020fa6-ac91-42cf-a911-5623a384770f",
   "metadata": {},
   "outputs": [
    {
     "ename": "FileNotFoundError",
     "evalue": "PowerLawOrExponential.txt not found.",
     "output_type": "error",
     "traceback": [
      "\u001b[1;31m---------------------------------------------------------------------------\u001b[0m",
      "\u001b[1;31mFileNotFoundError\u001b[0m                         Traceback (most recent call last)",
      "Cell \u001b[1;32mIn[6], line 1\u001b[0m\n\u001b[1;32m----> 1\u001b[0m np\u001b[38;5;241m.\u001b[39mloadtxt(\u001b[38;5;124m\"\u001b[39m\u001b[38;5;124mPowerLawOrExponential.txt\u001b[39m\u001b[38;5;124m\"\u001b[39m)\n",
      "File \u001b[1;32m~\\anaconda3\\Lib\\site-packages\\numpy\\lib\\npyio.py:1373\u001b[0m, in \u001b[0;36mloadtxt\u001b[1;34m(fname, dtype, comments, delimiter, converters, skiprows, usecols, unpack, ndmin, encoding, max_rows, quotechar, like)\u001b[0m\n\u001b[0;32m   1370\u001b[0m \u001b[38;5;28;01mif\u001b[39;00m \u001b[38;5;28misinstance\u001b[39m(delimiter, \u001b[38;5;28mbytes\u001b[39m):\n\u001b[0;32m   1371\u001b[0m     delimiter \u001b[38;5;241m=\u001b[39m delimiter\u001b[38;5;241m.\u001b[39mdecode(\u001b[38;5;124m'\u001b[39m\u001b[38;5;124mlatin1\u001b[39m\u001b[38;5;124m'\u001b[39m)\n\u001b[1;32m-> 1373\u001b[0m arr \u001b[38;5;241m=\u001b[39m _read(fname, dtype\u001b[38;5;241m=\u001b[39mdtype, comment\u001b[38;5;241m=\u001b[39mcomment, delimiter\u001b[38;5;241m=\u001b[39mdelimiter,\n\u001b[0;32m   1374\u001b[0m             converters\u001b[38;5;241m=\u001b[39mconverters, skiplines\u001b[38;5;241m=\u001b[39mskiprows, usecols\u001b[38;5;241m=\u001b[39musecols,\n\u001b[0;32m   1375\u001b[0m             unpack\u001b[38;5;241m=\u001b[39munpack, ndmin\u001b[38;5;241m=\u001b[39mndmin, encoding\u001b[38;5;241m=\u001b[39mencoding,\n\u001b[0;32m   1376\u001b[0m             max_rows\u001b[38;5;241m=\u001b[39mmax_rows, quote\u001b[38;5;241m=\u001b[39mquotechar)\n\u001b[0;32m   1378\u001b[0m \u001b[38;5;28;01mreturn\u001b[39;00m arr\n",
      "File \u001b[1;32m~\\anaconda3\\Lib\\site-packages\\numpy\\lib\\npyio.py:992\u001b[0m, in \u001b[0;36m_read\u001b[1;34m(fname, delimiter, comment, quote, imaginary_unit, usecols, skiplines, max_rows, converters, ndmin, unpack, dtype, encoding)\u001b[0m\n\u001b[0;32m    990\u001b[0m     fname \u001b[38;5;241m=\u001b[39m os\u001b[38;5;241m.\u001b[39mfspath(fname)\n\u001b[0;32m    991\u001b[0m \u001b[38;5;28;01mif\u001b[39;00m \u001b[38;5;28misinstance\u001b[39m(fname, \u001b[38;5;28mstr\u001b[39m):\n\u001b[1;32m--> 992\u001b[0m     fh \u001b[38;5;241m=\u001b[39m np\u001b[38;5;241m.\u001b[39mlib\u001b[38;5;241m.\u001b[39m_datasource\u001b[38;5;241m.\u001b[39mopen(fname, \u001b[38;5;124m'\u001b[39m\u001b[38;5;124mrt\u001b[39m\u001b[38;5;124m'\u001b[39m, encoding\u001b[38;5;241m=\u001b[39mencoding)\n\u001b[0;32m    993\u001b[0m     \u001b[38;5;28;01mif\u001b[39;00m encoding \u001b[38;5;129;01mis\u001b[39;00m \u001b[38;5;28;01mNone\u001b[39;00m:\n\u001b[0;32m    994\u001b[0m         encoding \u001b[38;5;241m=\u001b[39m \u001b[38;5;28mgetattr\u001b[39m(fh, \u001b[38;5;124m'\u001b[39m\u001b[38;5;124mencoding\u001b[39m\u001b[38;5;124m'\u001b[39m, \u001b[38;5;124m'\u001b[39m\u001b[38;5;124mlatin1\u001b[39m\u001b[38;5;124m'\u001b[39m)\n",
      "File \u001b[1;32m~\\anaconda3\\Lib\\site-packages\\numpy\\lib\\_datasource.py:193\u001b[0m, in \u001b[0;36mopen\u001b[1;34m(path, mode, destpath, encoding, newline)\u001b[0m\n\u001b[0;32m    156\u001b[0m \u001b[38;5;250m\u001b[39m\u001b[38;5;124;03m\"\"\"\u001b[39;00m\n\u001b[0;32m    157\u001b[0m \u001b[38;5;124;03mOpen `path` with `mode` and return the file object.\u001b[39;00m\n\u001b[0;32m    158\u001b[0m \n\u001b[1;32m   (...)\u001b[0m\n\u001b[0;32m    189\u001b[0m \n\u001b[0;32m    190\u001b[0m \u001b[38;5;124;03m\"\"\"\u001b[39;00m\n\u001b[0;32m    192\u001b[0m ds \u001b[38;5;241m=\u001b[39m DataSource(destpath)\n\u001b[1;32m--> 193\u001b[0m \u001b[38;5;28;01mreturn\u001b[39;00m ds\u001b[38;5;241m.\u001b[39mopen(path, mode, encoding\u001b[38;5;241m=\u001b[39mencoding, newline\u001b[38;5;241m=\u001b[39mnewline)\n",
      "File \u001b[1;32m~\\anaconda3\\Lib\\site-packages\\numpy\\lib\\_datasource.py:533\u001b[0m, in \u001b[0;36mDataSource.open\u001b[1;34m(self, path, mode, encoding, newline)\u001b[0m\n\u001b[0;32m    530\u001b[0m     \u001b[38;5;28;01mreturn\u001b[39;00m _file_openers[ext](found, mode\u001b[38;5;241m=\u001b[39mmode,\n\u001b[0;32m    531\u001b[0m                               encoding\u001b[38;5;241m=\u001b[39mencoding, newline\u001b[38;5;241m=\u001b[39mnewline)\n\u001b[0;32m    532\u001b[0m \u001b[38;5;28;01melse\u001b[39;00m:\n\u001b[1;32m--> 533\u001b[0m     \u001b[38;5;28;01mraise\u001b[39;00m \u001b[38;5;167;01mFileNotFoundError\u001b[39;00m(\u001b[38;5;124mf\u001b[39m\u001b[38;5;124m\"\u001b[39m\u001b[38;5;132;01m{\u001b[39;00mpath\u001b[38;5;132;01m}\u001b[39;00m\u001b[38;5;124m not found.\u001b[39m\u001b[38;5;124m\"\u001b[39m)\n",
      "\u001b[1;31mFileNotFoundError\u001b[0m: PowerLawOrExponential.txt not found."
     ]
    }
   ],
   "source": [
    "np.loadtxt(\"PowerLawOrExponential.txt\")"
   ]
  },
  {
   "cell_type": "code",
   "execution_count": null,
   "id": "aa6f3316-1858-4c50-9b51-462a895c2a74",
   "metadata": {},
   "outputs": [],
   "source": []
  }
 ],
 "metadata": {
  "kernelspec": {
   "display_name": "Python 3 (ipykernel)",
   "language": "python",
   "name": "python3"
  },
  "language_info": {
   "codemirror_mode": {
    "name": "ipython",
    "version": 3
   },
   "file_extension": ".py",
   "mimetype": "text/x-python",
   "name": "python",
   "nbconvert_exporter": "python",
   "pygments_lexer": "ipython3",
   "version": "3.12.4"
  }
 },
 "nbformat": 4,
 "nbformat_minor": 5
}
